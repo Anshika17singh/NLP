{
 "cells": [
  {
   "cell_type": "code",
   "execution_count": 8,
   "id": "23689630-f8a0-493f-8c75-3f22984b9a73",
   "metadata": {},
   "outputs": [],
   "source": [
    "#pip install nltk -Toolkit for nlp\n",
    "#pip install spaqcy\n",
    "import nltk\n",
    "import re # regular expression\n",
    "import spacy\n",
    "from nltk.tokenize import word_tokenize\n",
    "from nltk.corpus import stopwords\n",
    "from nltk.stem import WordNetLemmatizer"
   ]
  },
  {
   "cell_type": "code",
   "execution_count": 9,
   "id": "fdbba142-896f-4fa2-88c8-eea3dc48aaf7",
   "metadata": {},
   "outputs": [
    {
     "name": "stderr",
     "output_type": "stream",
     "text": [
      "[nltk_data] Downloading package punkt to\n",
      "[nltk_data]     C:\\Users\\HP\\AppData\\Roaming\\nltk_data...\n",
      "[nltk_data]   Package punkt is already up-to-date!\n",
      "[nltk_data] Downloading package averaged_perceptron_tagger to\n",
      "[nltk_data]     C:\\Users\\HP\\AppData\\Roaming\\nltk_data...\n",
      "[nltk_data]   Package averaged_perceptron_tagger is already up-to-\n",
      "[nltk_data]       date!\n"
     ]
    },
    {
     "data": {
      "text/plain": [
       "True"
      ]
     },
     "execution_count": 9,
     "metadata": {},
     "output_type": "execute_result"
    }
   ],
   "source": [
    "nltk.download('punkt')\n",
    "nltk.download('averaged_perceptron_tagger') "
   ]
  },
  {
   "cell_type": "code",
   "execution_count": 10,
   "id": "f263f167-1265-46bf-a501-681853410f16",
   "metadata": {},
   "outputs": [],
   "source": [
    "#load model\n",
    "nlp = spacy.load(\"en_core_web_sm\")"
   ]
  },
  {
   "cell_type": "code",
   "execution_count": 11,
   "id": "d2eeb10f-3476-45a8-b3a9-58ad25c0f221",
   "metadata": {},
   "outputs": [],
   "source": [
    "with open('data.txt','r',encoding='utf-8') as file:\n",
    "    text=file.read()"
   ]
  },
  {
   "cell_type": "code",
   "execution_count": 12,
   "id": "26bc52ca-2146-4a5c-89ab-b8f435e9af47",
   "metadata": {},
   "outputs": [],
   "source": [
    "def clean_text(text):\n",
    "    text=re.sub(r'\\d+','',text) #remove digits\n",
    "    text=re.sub(r'\\W+','',text)\n",
    "    return text"
   ]
  },
  {
   "cell_type": "code",
   "execution_count": 13,
   "id": "0ba2f26e-1cda-45cd-b33b-0df8bf5a5fc2",
   "metadata": {},
   "outputs": [],
   "source": [
    "c_text=clean_text(text).lower()"
   ]
  },
  {
   "cell_type": "code",
   "execution_count": 14,
   "id": "10c689e6-b3a9-4333-b674-ae725a77d0bb",
   "metadata": {},
   "outputs": [],
   "source": [
    "#tokenatization\n",
    "tokens=word_tokenize(text)"
   ]
  },
  {
   "cell_type": "code",
   "execution_count": 15,
   "id": "ba25ccdf-befd-4bc4-ab97-28e78a40a860",
   "metadata": {},
   "outputs": [
    {
     "name": "stderr",
     "output_type": "stream",
     "text": [
      "[nltk_data] Downloading package stopwords to\n",
      "[nltk_data]     C:\\Users\\HP\\AppData\\Roaming\\nltk_data...\n",
      "[nltk_data]   Package stopwords is already up-to-date!\n"
     ]
    },
    {
     "data": {
      "text/plain": [
       "True"
      ]
     },
     "execution_count": 15,
     "metadata": {},
     "output_type": "execute_result"
    }
   ],
   "source": [
    "nltk.download('stopwords')"
   ]
  },
  {
   "cell_type": "code",
   "execution_count": 17,
   "id": "7dae051a-7782-4799-bd55-92f947737505",
   "metadata": {},
   "outputs": [
    {
     "name": "stderr",
     "output_type": "stream",
     "text": [
      "[nltk_data] Downloading package wordnet to\n",
      "[nltk_data]     C:\\Users\\HP\\AppData\\Roaming\\nltk_data...\n",
      "[nltk_data]   Package wordnet is already up-to-date!\n"
     ]
    },
    {
     "data": {
      "text/plain": [
       "True"
      ]
     },
     "execution_count": 17,
     "metadata": {},
     "output_type": "execute_result"
    }
   ],
   "source": [
    "nltk.download('wordnet')"
   ]
  },
  {
   "cell_type": "code",
   "execution_count": 18,
   "id": "754b81a6-56a4-4701-a1c5-e9a1668e2176",
   "metadata": {},
   "outputs": [],
   "source": [
    "lemmatize=WordNetLemmatizer()\n",
    "lem_token=[lemmatize.lemmatize(token) for token in tokens]"
   ]
  },
  {
   "cell_type": "code",
   "execution_count": 19,
   "id": "b0065158-11ed-410b-8e9d-4dd6db8f0c91",
   "metadata": {},
   "outputs": [],
   "source": [
    "pos=nltk.pos_tag(lem_token)"
   ]
  },
  {
   "cell_type": "code",
   "execution_count": 20,
   "id": "721ec563-2f16-4be6-8052-a774e6c8c4c7",
   "metadata": {},
   "outputs": [],
   "source": [
    "# Nemed_entity\n",
    "x=nlp(text)\n",
    "named=[(ent.text,ent.label_) for ent in x.ents]"
   ]
  },
  {
   "cell_type": "code",
   "execution_count": 21,
   "id": "a84e98fb-5078-4add-aea1-1b0a9b4451a9",
   "metadata": {},
   "outputs": [
    {
     "name": "stdout",
     "output_type": "stream",
     "text": [
      "Text\n",
      " My name is Shailesh Yadav,\n",
      "I live in Varanasi,\n",
      "Currently I am a trainer in institute named NSTI,Allahabad,UP\n",
      "I teach trainees of AIPA trade.   \n"
     ]
    }
   ],
   "source": [
    "print(\"Text\\n\",text)"
   ]
  },
  {
   "cell_type": "code",
   "execution_count": 22,
   "id": "f9037586-d26e-4eb4-a3e8-75b7b0f9cff1",
   "metadata": {},
   "outputs": [
    {
     "name": "stdout",
     "output_type": "stream",
     "text": [
      "['My', 'name', 'is', 'Shailesh', 'Yadav', ',', 'I', 'live', 'in', 'Varanasi', ',', 'Currently', 'I', 'am', 'a', 'trainer', 'in', 'institute', 'named', 'NSTI', ',', 'Allahabad', ',', 'UP', 'I', 'teach', 'trainees', 'of', 'AIPA', 'trade', '.']\n"
     ]
    }
   ],
   "source": [
    "print(tokens)"
   ]
  },
  {
   "cell_type": "code",
   "execution_count": 23,
   "id": "9427e7f4-415c-46b5-b2f7-04a647773a5d",
   "metadata": {},
   "outputs": [
    {
     "name": "stdout",
     "output_type": "stream",
     "text": [
      "['My', 'name', 'is', 'Shailesh', 'Yadav', ',', 'I', 'live', 'in', 'Varanasi', ',', 'Currently', 'I', 'am', 'a', 'trainer', 'in', 'institute', 'named', 'NSTI', ',', 'Allahabad', ',', 'UP', 'I', 'teach', 'trainee', 'of', 'AIPA', 'trade', '.']\n"
     ]
    }
   ],
   "source": [
    "print(lem_token)"
   ]
  },
  {
   "cell_type": "code",
   "execution_count": 24,
   "id": "ddbdcc85-e653-487d-a28e-5f63fff4197d",
   "metadata": {},
   "outputs": [
    {
     "name": "stdout",
     "output_type": "stream",
     "text": [
      "[('My', 'PRP$'), ('name', 'NN'), ('is', 'VBZ'), ('Shailesh', 'NNP'), ('Yadav', 'NNP'), (',', ','), ('I', 'PRP'), ('live', 'VBP'), ('in', 'IN'), ('Varanasi', 'NNP'), (',', ','), ('Currently', 'NNP'), ('I', 'PRP'), ('am', 'VBP'), ('a', 'DT'), ('trainer', 'NN'), ('in', 'IN'), ('institute', 'NN'), ('named', 'VBN'), ('NSTI', 'NNP'), (',', ','), ('Allahabad', 'NNP'), (',', ','), ('UP', 'NNP'), ('I', 'PRP'), ('teach', 'VBP'), ('trainee', 'NN'), ('of', 'IN'), ('AIPA', 'NNP'), ('trade', 'NN'), ('.', '.')]\n"
     ]
    }
   ],
   "source": [
    "print(pos)"
   ]
  },
  {
   "cell_type": "code",
   "execution_count": 25,
   "id": "297efd1e-359e-4a11-b185-46aa298ad143",
   "metadata": {},
   "outputs": [
    {
     "name": "stdout",
     "output_type": "stream",
     "text": [
      "[('Shailesh Yadav', 'PERSON'), ('Varanasi', 'GPE'), ('NSTI', 'ORG'), ('Allahabad', 'GPE'), ('AIPA', 'ORG')]\n"
     ]
    }
   ],
   "source": [
    "print(named)"
   ]
  },
  {
   "cell_type": "code",
   "execution_count": null,
   "id": "ce209ecf-e51d-4798-81af-4b3af49f012f",
   "metadata": {},
   "outputs": [],
   "source": [
    "   "
   ]
  }
 ],
 "metadata": {
  "kernelspec": {
   "display_name": "Python 3 (ipykernel)",
   "language": "python",
   "name": "python3"
  },
  "language_info": {
   "codemirror_mode": {
    "name": "ipython",
    "version": 3
   },
   "file_extension": ".py",
   "mimetype": "text/x-python",
   "name": "python",
   "nbconvert_exporter": "python",
   "pygments_lexer": "ipython3",
   "version": "3.12.10"
  }
 },
 "nbformat": 4,
 "nbformat_minor": 5
}
