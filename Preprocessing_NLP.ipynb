{
 "cells": [
  {
   "cell_type": "code",
   "execution_count": 10,
   "id": "4693be51-cada-4a3c-98d8-22622f37b0c2",
   "metadata": {},
   "outputs": [],
   "source": [
    "import nltk\n",
    "import re\n",
    "import spacy\n",
    "from nltk.tokenize import word_tokenize\n",
    "from nltk.corpus import stopwords\n",
    "from nltk.stem import WordNetLemmatizer"
   ]
  },
  {
   "cell_type": "code",
   "execution_count": 11,
   "id": "8e1ee2cb-cce0-40e5-be9b-b5d285c432ff",
   "metadata": {},
   "outputs": [
    {
     "name": "stderr",
     "output_type": "stream",
     "text": [
      "[nltk_data] Downloading package punkt to\n",
      "[nltk_data]     C:\\Users\\HP\\AppData\\Roaming\\nltk_data...\n",
      "[nltk_data]   Package punkt is already up-to-date!\n"
     ]
    },
    {
     "data": {
      "text/plain": [
       "True"
      ]
     },
     "execution_count": 11,
     "metadata": {},
     "output_type": "execute_result"
    }
   ],
   "source": [
    "nltk.download('punkt')"
   ]
  },
  {
   "cell_type": "code",
   "execution_count": 12,
   "id": "bf426889-0b6c-475b-b6aa-51a1d43c21c7",
   "metadata": {},
   "outputs": [
    {
     "name": "stderr",
     "output_type": "stream",
     "text": [
      "[nltk_data] Downloading package averaged_perceptron_tagger to\n",
      "[nltk_data]     C:\\Users\\HP\\AppData\\Roaming\\nltk_data...\n",
      "[nltk_data]   Package averaged_perceptron_tagger is already up-to-\n",
      "[nltk_data]       date!\n"
     ]
    },
    {
     "data": {
      "text/plain": [
       "True"
      ]
     },
     "execution_count": 12,
     "metadata": {},
     "output_type": "execute_result"
    }
   ],
   "source": [
    "nltk.download('averaged_perceptron_tagger')"
   ]
  },
  {
   "cell_type": "code",
   "execution_count": 13,
   "id": "dea51272-df27-4bea-9132-19bb2f646d20",
   "metadata": {},
   "outputs": [],
   "source": [
    "# Load model\n",
    "model = spacy.load('en_core_web_sm')"
   ]
  },
  {
   "cell_type": "code",
   "execution_count": 14,
   "id": "aa298ae0-64e3-47de-b170-c34513ab443d",
   "metadata": {},
   "outputs": [],
   "source": [
    "with open ('Word.txt', 'r', encoding='utf-8') as file:\n",
    "    tx=file.read()"
   ]
  },
  {
   "cell_type": "code",
   "execution_count": 19,
   "id": "88e1938e-85f2-4369-bbac-d37e11347e59",
   "metadata": {},
   "outputs": [],
   "source": [
    "def clean(tx):\n",
    "    tx=re.sub(r'\\d+','',tx) \n",
    "    tx=re.sub(r'\\W+','',tx)\n",
    "    return tx\n",
    "    "
   ]
  },
  {
   "cell_type": "code",
   "execution_count": 20,
   "id": "7fef4603-c416-4cba-919d-b152d1d98a1a",
   "metadata": {},
   "outputs": [],
   "source": [
    "clean_text=clean(tx).lower"
   ]
  },
  {
   "cell_type": "code",
   "execution_count": 21,
   "id": "53449841-994a-4b7e-938e-ea25c7945da6",
   "metadata": {},
   "outputs": [],
   "source": [
    "token_word=word_tokenize(tx)"
   ]
  },
  {
   "cell_type": "code",
   "execution_count": 22,
   "id": "66040e99-c3c6-4cbc-97ff-84cdac47e8e3",
   "metadata": {},
   "outputs": [
    {
     "name": "stderr",
     "output_type": "stream",
     "text": [
      "[nltk_data] Downloading package stopwords to\n",
      "[nltk_data]     C:\\Users\\HP\\AppData\\Roaming\\nltk_data...\n",
      "[nltk_data]   Package stopwords is already up-to-date!\n"
     ]
    },
    {
     "data": {
      "text/plain": [
       "True"
      ]
     },
     "execution_count": 22,
     "metadata": {},
     "output_type": "execute_result"
    }
   ],
   "source": [
    "nltk.download('stopwords')"
   ]
  },
  {
   "cell_type": "code",
   "execution_count": 23,
   "id": "36ce764d-3d8a-47d2-8ebb-cd1b3a274dae",
   "metadata": {},
   "outputs": [
    {
     "name": "stderr",
     "output_type": "stream",
     "text": [
      "[nltk_data] Downloading package wordnet to\n",
      "[nltk_data]     C:\\Users\\HP\\AppData\\Roaming\\nltk_data...\n",
      "[nltk_data]   Package wordnet is already up-to-date!\n"
     ]
    },
    {
     "data": {
      "text/plain": [
       "True"
      ]
     },
     "execution_count": 23,
     "metadata": {},
     "output_type": "execute_result"
    }
   ],
   "source": [
    "nltk.download('wordnet')"
   ]
  },
  {
   "cell_type": "code",
   "execution_count": 24,
   "id": "f9acfc29-2921-4b7c-b704-cb01d59b7858",
   "metadata": {},
   "outputs": [],
   "source": [
    "lemma=WordNetLemmatizer()\n",
    "lemma_token=[lemma.lemmatize(token) for token in token_word]"
   ]
  },
  {
   "cell_type": "code",
   "execution_count": 25,
   "id": "36e9c881-e759-45b3-a1eb-642bb206499c",
   "metadata": {},
   "outputs": [],
   "source": [
    "part_speech=nltk.pos_tag(lemma_token)"
   ]
  },
  {
   "cell_type": "code",
   "execution_count": 26,
   "id": "e58cac30-b434-4563-af15-e34eeb4e95cc",
   "metadata": {},
   "outputs": [],
   "source": [
    "# Nemed_entity\n",
    "a=model(tx)\n",
    "name=[(ent.text,ent.label_) for ent in a.ents]"
   ]
  },
  {
   "cell_type": "code",
   "execution_count": 27,
   "id": "a73688ca-926d-4054-b6ef-c94f7330fbc9",
   "metadata": {},
   "outputs": [
    {
     "name": "stdout",
     "output_type": "stream",
     "text": [
      "Text\n",
      " My name is Anshika Singh,\n",
      "I live in Basti,\n",
      "I complete my graduation from Siddhartha University,\n",
      "currently I persuing AI Micro Degree from NSTI Allahabad.\n",
      " \n"
     ]
    }
   ],
   "source": [
    "print('Text\\n',tx)"
   ]
  },
  {
   "cell_type": "code",
   "execution_count": 28,
   "id": "59fec038-5ce9-4294-8dfc-b499ec8ff28f",
   "metadata": {},
   "outputs": [
    {
     "name": "stdout",
     "output_type": "stream",
     "text": [
      "['My', 'name', 'is', 'Anshika', 'Singh', ',', 'I', 'live', 'in', 'Basti', ',', 'I', 'complete', 'my', 'graduation', 'from', 'Siddhartha', 'University', ',', 'currently', 'I', 'persuing', 'AI', 'Micro', 'Degree', 'from', 'NSTI', 'Allahabad', '.']\n"
     ]
    }
   ],
   "source": [
    "print(token_word)"
   ]
  },
  {
   "cell_type": "code",
   "execution_count": 29,
   "id": "1ad4179c-a57f-4723-94cb-5da6a1293eec",
   "metadata": {},
   "outputs": [
    {
     "name": "stdout",
     "output_type": "stream",
     "text": [
      "['My', 'name', 'is', 'Anshika', 'Singh', ',', 'I', 'live', 'in', 'Basti', ',', 'I', 'complete', 'my', 'graduation', 'from', 'Siddhartha', 'University', ',', 'currently', 'I', 'persuing', 'AI', 'Micro', 'Degree', 'from', 'NSTI', 'Allahabad', '.']\n"
     ]
    }
   ],
   "source": [
    "print(lemma_token)"
   ]
  },
  {
   "cell_type": "code",
   "execution_count": 30,
   "id": "939e9ec1-088d-41d3-90e4-5bd714eac084",
   "metadata": {},
   "outputs": [
    {
     "name": "stdout",
     "output_type": "stream",
     "text": [
      "[('My', 'PRP$'), ('name', 'NN'), ('is', 'VBZ'), ('Anshika', 'NNP'), ('Singh', 'NNP'), (',', ','), ('I', 'PRP'), ('live', 'VBP'), ('in', 'IN'), ('Basti', 'NNP'), (',', ','), ('I', 'PRP'), ('complete', 'VBP'), ('my', 'PRP$'), ('graduation', 'NN'), ('from', 'IN'), ('Siddhartha', 'NNP'), ('University', 'NNP'), (',', ','), ('currently', 'RB'), ('I', 'PRP'), ('persuing', 'VBG'), ('AI', 'NNP'), ('Micro', 'NNP'), ('Degree', 'NNP'), ('from', 'IN'), ('NSTI', 'NNP'), ('Allahabad', 'NNP'), ('.', '.')]\n"
     ]
    }
   ],
   "source": [
    "print(part_speech)"
   ]
  },
  {
   "cell_type": "code",
   "execution_count": 31,
   "id": "1bd171b4-a9cd-4dfa-a2e0-3651f1b02808",
   "metadata": {},
   "outputs": [
    {
     "name": "stdout",
     "output_type": "stream",
     "text": [
      "[('Anshika Singh', 'PERSON'), ('Basti', 'GPE'), ('Siddhartha University', 'ORG'), ('NSTI Allahabad', 'ORG')]\n"
     ]
    }
   ],
   "source": [
    "print(name)"
   ]
  },
  {
   "cell_type": "code",
   "execution_count": null,
   "id": "1c2143bd-1251-4f52-842a-e85bf31cec83",
   "metadata": {},
   "outputs": [],
   "source": []
  }
 ],
 "metadata": {
  "kernelspec": {
   "display_name": "Python 3 (ipykernel)",
   "language": "python",
   "name": "python3"
  },
  "language_info": {
   "codemirror_mode": {
    "name": "ipython",
    "version": 3
   },
   "file_extension": ".py",
   "mimetype": "text/x-python",
   "name": "python",
   "nbconvert_exporter": "python",
   "pygments_lexer": "ipython3",
   "version": "3.12.10"
  }
 },
 "nbformat": 4,
 "nbformat_minor": 5
}
